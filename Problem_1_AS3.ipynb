{
  "nbformat": 4,
  "nbformat_minor": 0,
  "metadata": {
    "colab": {
      "name": "Problem 1_AS3.ipynb",
      "provenance": []
    },
    "kernelspec": {
      "display_name": "Python 3",
      "name": "python3"
    },
    "language_info": {
      "name": "python"
    }
  },
  "cells": [
    {
      "cell_type": "code",
      "metadata": {
        "id": "wODuS4x7oUyC"
      },
      "source": [
        "from tensorflow import keras\n",
        "from tensorflow.keras.datasets import cifar10\n",
        "from tensorflow.keras.models import Sequential\n",
        "from tensorflow.keras.layers import Dense,Dropout,Input\n",
        "from tensorflow.keras.optimizers import RMSprop\n",
        "from tensorflow.keras.regularizers import l2,l1\n",
        "from tensorflow.keras.layers import BatchNormalization\n",
        "from tensorflow.keras.layers import Activation\n",
        "import matplotlib.pyplot as plt\n",
        "import numpy as np\n",
        "from keras.utils import np_utils"
      ],
      "execution_count": 73,
      "outputs": []
    },
    {
      "cell_type": "code",
      "metadata": {
        "id": "SuTUgBVaoXJQ"
      },
      "source": [
        "(train_images, train_labels),(test_images,test_labels)=cifar10.load_data()"
      ],
      "execution_count": 74,
      "outputs": []
    },
    {
      "cell_type": "code",
      "metadata": {
        "colab": {
          "base_uri": "https://localhost:8080/"
        },
        "id": "xRGviKHjoZyh",
        "outputId": "aeb3f658-fd0f-404e-a926-5b7d2e8a3d34"
      },
      "source": [
        "print(train_images.shape)"
      ],
      "execution_count": 75,
      "outputs": [
        {
          "output_type": "stream",
          "text": [
            "(50000, 32, 32, 3)\n"
          ],
          "name": "stdout"
        }
      ]
    },
    {
      "cell_type": "code",
      "metadata": {
        "colab": {
          "base_uri": "https://localhost:8080/"
        },
        "id": "MvByOw91od8i",
        "outputId": "0a2b5275-01a0-4a6e-b6a6-d74ba09dbdc6"
      },
      "source": [
        "subclass=[0,8,9]\n",
        "def subsets(data):\n",
        "  a = []\n",
        "  for index,labels in enumerate(data):\n",
        "    if labels in [0,1,2]:\n",
        "      a.append(index)\n",
        "      \n",
        "  return a\n",
        "\n",
        "i_train = subsets(train_labels)\n",
        "i_test = subsets(test_labels)\n",
        "\n",
        "train_images= train_images[i_train]\n",
        "train_labels = train_labels[i_train]\n",
        "\n",
        "test_images = test_images[i_test]\n",
        "test_labels = test_labels[i_test]\n",
        "\n",
        "print(train_images.shape)  \n",
        "print(train_labels.shape)\n",
        "print(test_images.shape)\n",
        "print(test_labels.shape)\n"
      ],
      "execution_count": 76,
      "outputs": [
        {
          "output_type": "stream",
          "text": [
            "(15000, 32, 32, 3)\n",
            "(15000, 1)\n",
            "(3000, 32, 32, 3)\n",
            "(3000, 1)\n"
          ],
          "name": "stdout"
        }
      ]
    },
    {
      "cell_type": "code",
      "metadata": {
        "colab": {
          "base_uri": "https://localhost:8080/"
        },
        "id": "5RCfusdJoe3w",
        "outputId": "075241bd-15cb-4011-96fa-1bab4bbc07d0"
      },
      "source": [
        "#We will reshape the images into the 1D arrays of 3072 pixels that we expect\n",
        "train_images = train_images.reshape(15000,32*32*3) \n",
        "test_images = test_images.reshape(3000,32*32*3)\n",
        "train_images = train_images.astype('float32')\n",
        "test_images = test_images.astype('float32')\n",
        "#Divide the image by 255 in order to  normalize it into 0-1 range\n",
        "train_images/=255.0\n",
        "test_images/=255.0\n",
        "#print(test_images)\n",
        "#print(train_images.shape)\n",
        "\n",
        "\n",
        "#one-hot encoding \n",
        "new_train_labels= np_utils.to_categorical(train_labels,10)\n",
        "new_test_labels =  np_utils.to_categorical(test_labels,10)\n",
        "\n",
        "\n",
        "#dividing in validation and training sets\n",
        "x_val=train_images[:3000]\n",
        "x_train=train_images[3000:]\n",
        "\n",
        "y_val=new_train_labels[:3000]\n",
        "y_train=new_train_labels[3000:]\n",
        "\n",
        "print(x_val.shape)\n",
        "print(y_val.shape)\n",
        "print(x_train.shape)\n",
        "print(y_train.shape)"
      ],
      "execution_count": 77,
      "outputs": [
        {
          "output_type": "stream",
          "text": [
            "(3000, 3072)\n",
            "(3000, 10)\n",
            "(12000, 3072)\n",
            "(12000, 10)\n"
          ],
          "name": "stdout"
        }
      ]
    },
    {
      "cell_type": "code",
      "metadata": {
        "colab": {
          "base_uri": "https://localhost:8080/"
        },
        "id": "jgzOVp0oolFL",
        "outputId": "1ffa9574-0f0e-427e-b0cf-0c213b29c49f"
      },
      "source": [
        "model= Sequential()\n",
        "model.add(Dense(units=50,input_shape=(32*32*3,)))\n",
        "model.add(BatchNormalization(axis=-1, momentum=0.99, epsilon=1e-07, center=True, scale=True, beta_initializer='zeros', gamma_initializer='ones', moving_mean_initializer='zeros', moving_variance_initializer='ones', beta_regularizer=None, gamma_regularizer=None, beta_constraint=None, gamma_constraint=None))\n",
        "model.add(Activation('relu'))\n",
        "#model.add(Dense(units=50,activation='relu',input_shape=(32*32*3,), kernel_regularizer=l2(0.01), bias_regularizer=l2(0.01)))\n",
        "#model.add(Dense(units=50,activation='relu',input_shape=(32*32*3,), kernel_regularizer=l2(0.01), bias_regularizer=l12(0.01)))\n",
        "#model.add(Dropout(0.5))\n",
        "model.add(Dense(units=20))\n",
        "#model.add(Dropout(0.5))\n",
        "#model.add(Dense(units=100))\n",
        "#model.add(Dense(20))\n",
        "model.add(Dense(units=10,activation='softmax'))\n",
        "model.summary()"
      ],
      "execution_count": 78,
      "outputs": [
        {
          "output_type": "stream",
          "text": [
            "Model: \"sequential_6\"\n",
            "_________________________________________________________________\n",
            "Layer (type)                 Output Shape              Param #   \n",
            "=================================================================\n",
            "dense_18 (Dense)             (None, 50)                153650    \n",
            "_________________________________________________________________\n",
            "batch_normalization_6 (Batch (None, 50)                200       \n",
            "_________________________________________________________________\n",
            "activation_6 (Activation)    (None, 50)                0         \n",
            "_________________________________________________________________\n",
            "dense_19 (Dense)             (None, 20)                1020      \n",
            "_________________________________________________________________\n",
            "dense_20 (Dense)             (None, 10)                210       \n",
            "=================================================================\n",
            "Total params: 155,080\n",
            "Trainable params: 154,980\n",
            "Non-trainable params: 100\n",
            "_________________________________________________________________\n"
          ],
          "name": "stdout"
        }
      ]
    },
    {
      "cell_type": "code",
      "metadata": {
        "id": "LAM-IWsFonKM"
      },
      "source": [
        "opt1 =keras.optimizers.RMSprop(\n",
        "    learning_rate=0.007,\n",
        "    epsilon=1e-07,\n",
        "    name=\"RMSprop\")\n",
        "\n",
        "opt=keras.optimizers.Adagrad(\n",
        "    learning_rate=0.003,\n",
        "    #initial_accumulator_value=,\n",
        "    epsilon=1e-07,\n",
        "    name=\"Adagrad\"\n",
        "    \n",
        ")\n",
        "opt2=keras.optimizers.Adam(\n",
        "    learning_rate=0.003,\n",
        "    #initial_accumulator_value=,\n",
        "    epsilon=1e-07,\n",
        "    name=\"Adam\"\n",
        ")\n",
        "opt3 = keras.optimizers.SGD(lr=0.01, momentum=0.9)\n",
        "#model.compile(loss='sparse_categorical_crossentropy', optimizer=opt, metrics=['accuracy'])\n",
        "model.compile(loss='categorical_crossentropy',optimizer=opt,metrics=['accuracy'])"
      ],
      "execution_count": 79,
      "outputs": []
    },
    {
      "cell_type": "code",
      "metadata": {
        "colab": {
          "base_uri": "https://localhost:8080/"
        },
        "id": "7jDm7SGDorJV",
        "outputId": "3528a843-0ca2-4162-a51e-2bad0eb765ab"
      },
      "source": [
        "history = model.fit(x_train, y_train, \n",
        "                    epochs=50, validation_data=(x_val,y_val))"
      ],
      "execution_count": 80,
      "outputs": [
        {
          "output_type": "stream",
          "text": [
            "Epoch 1/50\n",
            "375/375 [==============================] - 2s 5ms/step - loss: 1.3177 - accuracy: 0.6148 - val_loss: 0.8966 - val_accuracy: 0.6683\n",
            "Epoch 2/50\n",
            "375/375 [==============================] - 2s 4ms/step - loss: 0.7287 - accuracy: 0.7378 - val_loss: 0.6792 - val_accuracy: 0.7503\n",
            "Epoch 3/50\n",
            "375/375 [==============================] - 2s 4ms/step - loss: 0.6642 - accuracy: 0.7530 - val_loss: 0.6398 - val_accuracy: 0.7557\n",
            "Epoch 4/50\n",
            "375/375 [==============================] - 2s 4ms/step - loss: 0.5949 - accuracy: 0.7730 - val_loss: 0.7329 - val_accuracy: 0.7003\n",
            "Epoch 5/50\n",
            "375/375 [==============================] - 2s 4ms/step - loss: 0.5667 - accuracy: 0.7848 - val_loss: 0.7036 - val_accuracy: 0.7063\n",
            "Epoch 6/50\n",
            "375/375 [==============================] - 2s 4ms/step - loss: 0.5478 - accuracy: 0.7928 - val_loss: 0.6615 - val_accuracy: 0.7373\n",
            "Epoch 7/50\n",
            "375/375 [==============================] - 2s 4ms/step - loss: 0.5162 - accuracy: 0.8015 - val_loss: 0.5984 - val_accuracy: 0.7690\n",
            "Epoch 8/50\n",
            "375/375 [==============================] - 2s 4ms/step - loss: 0.5137 - accuracy: 0.8089 - val_loss: 0.6584 - val_accuracy: 0.7347\n",
            "Epoch 9/50\n",
            "375/375 [==============================] - 2s 4ms/step - loss: 0.4860 - accuracy: 0.8204 - val_loss: 0.6280 - val_accuracy: 0.7503\n",
            "Epoch 10/50\n",
            "375/375 [==============================] - 2s 4ms/step - loss: 0.4737 - accuracy: 0.8240 - val_loss: 0.6177 - val_accuracy: 0.7517\n",
            "Epoch 11/50\n",
            "375/375 [==============================] - 2s 4ms/step - loss: 0.4664 - accuracy: 0.8278 - val_loss: 0.5691 - val_accuracy: 0.7753\n",
            "Epoch 12/50\n",
            "375/375 [==============================] - 2s 4ms/step - loss: 0.4479 - accuracy: 0.8370 - val_loss: 0.6112 - val_accuracy: 0.7590\n",
            "Epoch 13/50\n",
            "375/375 [==============================] - 2s 4ms/step - loss: 0.4264 - accuracy: 0.8410 - val_loss: 0.5634 - val_accuracy: 0.7790\n",
            "Epoch 14/50\n",
            "375/375 [==============================] - 2s 4ms/step - loss: 0.4345 - accuracy: 0.8377 - val_loss: 0.6317 - val_accuracy: 0.7530\n",
            "Epoch 15/50\n",
            "375/375 [==============================] - 2s 4ms/step - loss: 0.4105 - accuracy: 0.8509 - val_loss: 0.5552 - val_accuracy: 0.7880\n",
            "Epoch 16/50\n",
            "375/375 [==============================] - 2s 4ms/step - loss: 0.4001 - accuracy: 0.8533 - val_loss: 0.8253 - val_accuracy: 0.6893\n",
            "Epoch 17/50\n",
            "375/375 [==============================] - 2s 4ms/step - loss: 0.4062 - accuracy: 0.8524 - val_loss: 0.6632 - val_accuracy: 0.7433\n",
            "Epoch 18/50\n",
            "375/375 [==============================] - 2s 4ms/step - loss: 0.3923 - accuracy: 0.8575 - val_loss: 0.5525 - val_accuracy: 0.7873\n",
            "Epoch 19/50\n",
            "375/375 [==============================] - 2s 4ms/step - loss: 0.3916 - accuracy: 0.8584 - val_loss: 0.5803 - val_accuracy: 0.7783\n",
            "Epoch 20/50\n",
            "375/375 [==============================] - 2s 4ms/step - loss: 0.3811 - accuracy: 0.8602 - val_loss: 0.6949 - val_accuracy: 0.7240\n",
            "Epoch 21/50\n",
            "375/375 [==============================] - 2s 4ms/step - loss: 0.3682 - accuracy: 0.8647 - val_loss: 0.6198 - val_accuracy: 0.7540\n",
            "Epoch 22/50\n",
            "375/375 [==============================] - 2s 4ms/step - loss: 0.3590 - accuracy: 0.8749 - val_loss: 0.5436 - val_accuracy: 0.7907\n",
            "Epoch 23/50\n",
            "375/375 [==============================] - 2s 4ms/step - loss: 0.3495 - accuracy: 0.8791 - val_loss: 0.5552 - val_accuracy: 0.7863\n",
            "Epoch 24/50\n",
            "375/375 [==============================] - 2s 4ms/step - loss: 0.3447 - accuracy: 0.8800 - val_loss: 0.5973 - val_accuracy: 0.7740\n",
            "Epoch 25/50\n",
            "375/375 [==============================] - 2s 4ms/step - loss: 0.3333 - accuracy: 0.8848 - val_loss: 0.5640 - val_accuracy: 0.7793\n",
            "Epoch 26/50\n",
            "375/375 [==============================] - 2s 4ms/step - loss: 0.3412 - accuracy: 0.8771 - val_loss: 0.5814 - val_accuracy: 0.7823\n",
            "Epoch 27/50\n",
            "375/375 [==============================] - 2s 4ms/step - loss: 0.3189 - accuracy: 0.8890 - val_loss: 0.6001 - val_accuracy: 0.7687\n",
            "Epoch 28/50\n",
            "375/375 [==============================] - 2s 4ms/step - loss: 0.3231 - accuracy: 0.8904 - val_loss: 0.6118 - val_accuracy: 0.7670\n",
            "Epoch 29/50\n",
            "375/375 [==============================] - 2s 4ms/step - loss: 0.3308 - accuracy: 0.8868 - val_loss: 0.6698 - val_accuracy: 0.7480\n",
            "Epoch 30/50\n",
            "375/375 [==============================] - 2s 4ms/step - loss: 0.3112 - accuracy: 0.8920 - val_loss: 0.6356 - val_accuracy: 0.7617\n",
            "Epoch 31/50\n",
            "375/375 [==============================] - 2s 4ms/step - loss: 0.3188 - accuracy: 0.8870 - val_loss: 0.5907 - val_accuracy: 0.7817\n",
            "Epoch 32/50\n",
            "375/375 [==============================] - 2s 4ms/step - loss: 0.2995 - accuracy: 0.8979 - val_loss: 0.5572 - val_accuracy: 0.7910\n",
            "Epoch 33/50\n",
            "375/375 [==============================] - 2s 4ms/step - loss: 0.3058 - accuracy: 0.8962 - val_loss: 0.5831 - val_accuracy: 0.7753\n",
            "Epoch 34/50\n",
            "375/375 [==============================] - 2s 4ms/step - loss: 0.2908 - accuracy: 0.9059 - val_loss: 0.6249 - val_accuracy: 0.7677\n",
            "Epoch 35/50\n",
            "375/375 [==============================] - 2s 4ms/step - loss: 0.2812 - accuracy: 0.9068 - val_loss: 0.5801 - val_accuracy: 0.7893\n",
            "Epoch 36/50\n",
            "375/375 [==============================] - 2s 4ms/step - loss: 0.2803 - accuracy: 0.9062 - val_loss: 0.6022 - val_accuracy: 0.7843\n",
            "Epoch 37/50\n",
            "375/375 [==============================] - 2s 4ms/step - loss: 0.2789 - accuracy: 0.9100 - val_loss: 0.7440 - val_accuracy: 0.7193\n",
            "Epoch 38/50\n",
            "375/375 [==============================] - 2s 4ms/step - loss: 0.2778 - accuracy: 0.9061 - val_loss: 0.8516 - val_accuracy: 0.7020\n",
            "Epoch 39/50\n",
            "375/375 [==============================] - 2s 4ms/step - loss: 0.2708 - accuracy: 0.9056 - val_loss: 0.6475 - val_accuracy: 0.7560\n",
            "Epoch 40/50\n",
            "375/375 [==============================] - 2s 4ms/step - loss: 0.2606 - accuracy: 0.9135 - val_loss: 0.5839 - val_accuracy: 0.7840\n",
            "Epoch 41/50\n",
            "375/375 [==============================] - 2s 4ms/step - loss: 0.2548 - accuracy: 0.9120 - val_loss: 0.5677 - val_accuracy: 0.7963\n",
            "Epoch 42/50\n",
            "375/375 [==============================] - 2s 4ms/step - loss: 0.2531 - accuracy: 0.9171 - val_loss: 0.6554 - val_accuracy: 0.7557\n",
            "Epoch 43/50\n",
            "375/375 [==============================] - 2s 4ms/step - loss: 0.2475 - accuracy: 0.9154 - val_loss: 0.6034 - val_accuracy: 0.7847\n",
            "Epoch 44/50\n",
            "375/375 [==============================] - 2s 4ms/step - loss: 0.2501 - accuracy: 0.9207 - val_loss: 0.6880 - val_accuracy: 0.7537\n",
            "Epoch 45/50\n",
            "375/375 [==============================] - 2s 4ms/step - loss: 0.2404 - accuracy: 0.9238 - val_loss: 0.6122 - val_accuracy: 0.7760\n",
            "Epoch 46/50\n",
            "375/375 [==============================] - 2s 5ms/step - loss: 0.2374 - accuracy: 0.9248 - val_loss: 0.6088 - val_accuracy: 0.7750\n",
            "Epoch 47/50\n",
            "375/375 [==============================] - 2s 4ms/step - loss: 0.2372 - accuracy: 0.9260 - val_loss: 0.7104 - val_accuracy: 0.7523\n",
            "Epoch 48/50\n",
            "375/375 [==============================] - 2s 4ms/step - loss: 0.2293 - accuracy: 0.9256 - val_loss: 0.5896 - val_accuracy: 0.7823\n",
            "Epoch 49/50\n",
            "375/375 [==============================] - 2s 5ms/step - loss: 0.2337 - accuracy: 0.9266 - val_loss: 0.6239 - val_accuracy: 0.7780\n",
            "Epoch 50/50\n",
            "375/375 [==============================] - 2s 4ms/step - loss: 0.2232 - accuracy: 0.9334 - val_loss: 0.6079 - val_accuracy: 0.7840\n"
          ],
          "name": "stdout"
        }
      ]
    },
    {
      "cell_type": "code",
      "metadata": {
        "colab": {
          "base_uri": "https://localhost:8080/"
        },
        "id": "iyNoHqBGotU5",
        "outputId": "606cd983-63ad-42cf-8a31-ccc69ffd9688"
      },
      "source": [
        "#Evaluating the performance on test data\n",
        "test_loss, test_accuracy = model.evaluate(test_images, new_test_labels)"
      ],
      "execution_count": 82,
      "outputs": [
        {
          "output_type": "stream",
          "text": [
            "94/94 [==============================] - 0s 2ms/step - loss: 0.5677 - accuracy: 0.7860\n"
          ],
          "name": "stdout"
        }
      ]
    },
    {
      "cell_type": "code",
      "metadata": {
        "colab": {
          "base_uri": "https://localhost:8080/",
          "height": 312
        },
        "id": "UaaK1zYgo4jt",
        "outputId": "529cecc9-4df5-4304-bcda-0182b87b459e"
      },
      "source": [
        "plt.plot(history.history['accuracy'], label='Training')\n",
        "plt.plot(history.history['val_accuracy'], label='Validation')\n",
        "plt.title('model accuracy')\n",
        "plt.ylabel('accuracy')\n",
        "plt.xlabel('epoch')\n",
        "plt.legend(loc='upper left')"
      ],
      "execution_count": 83,
      "outputs": [
        {
          "output_type": "execute_result",
          "data": {
            "text/plain": [
              "<matplotlib.legend.Legend at 0x7f86e57af090>"
            ]
          },
          "metadata": {
            "tags": []
          },
          "execution_count": 83
        },
        {
          "output_type": "display_data",
          "data": {
            "image/png": "[encoded data removed]",
            "text/plain": [
              "<Figure size 432x288 with 1 Axes>"
            ]
          },
          "metadata": {
            "tags": [],
            "needs_background": "light"
          }
        }
      ]
    },
    {
      "cell_type": "code",
      "metadata": {
        "colab": {
          "base_uri": "https://localhost:8080/",
          "height": 312
        },
        "id": "eo7PX85ko7F8",
        "outputId": "b16e1882-7332-4ffd-98d0-3e38bca0b0b4"
      },
      "source": [
        "plt.plot(history.history['loss'], label='Training loss')\n",
        "plt.plot(history.history['val_loss'], label='Validation loss')\n",
        "plt.title('training and validation loss')\n",
        "plt.ylabel('loss')\n",
        "plt.xlabel('epochs')\n",
        "plt.legend(loc='upper right')"
      ],
      "execution_count": 84,
      "outputs": [
        {
          "output_type": "execute_result",
          "data": {
            "text/plain": [
              "<matplotlib.legend.Legend at 0x7f86e578fc50>"
            ]
          },
          "metadata": {
            "tags": []
          },
          "execution_count": 84
        },
        {
          "output_type": "display_data",
          "data": {
            "image/png": "[encoded data removed]",
            "text/plain": [
              "<Figure size 432x288 with 1 Axes>"
            ]
          },
          "metadata": {
            "tags": [],
            "needs_background": "light"
          }
        }
      ]
    },
    {
      "cell_type": "code",
      "metadata": {
        "id": "_1biEvQ_wXga"
      },
      "source": [
        ""
      ],
      "execution_count": null,
      "outputs": []
    }
  ]
}